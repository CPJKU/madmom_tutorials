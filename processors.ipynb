{
 "cells": [
  {
   "cell_type": "markdown",
   "metadata": {},
   "source": [
    "# Processor tutorial\n",
    "\n",
    "This tutorial describes the data class / processor design pattern and guides you on how to turn existing code into a processing chain (with all the added benefits like single or parallel batch processing).\n",
    "\n",
    "It assumes that you have finished/understood the [onset_detection notebook](./onset_detection.ipynb), since that notebook covers the code we want to transfer into a processing chain."
   ]
  },
  {
   "cell_type": "code",
   "execution_count": 1,
   "metadata": {
    "collapsed": true
   },
   "outputs": [],
   "source": [
    "%matplotlib inline\n",
    "\n",
    "import madmom\n",
    "import numpy as np\n",
    "import matplotlib.pyplot as plt"
   ]
  },
  {
   "cell_type": "markdown",
   "metadata": {},
   "source": [
    "Remember on how we obtained the `SuperFlux` onset detection function from an audio file (explicitly formulating every single step):"
   ]
  },
  {
   "cell_type": "code",
   "execution_count": 2,
   "metadata": {
    "collapsed": false
   },
   "outputs": [],
   "source": [
    "sig = madmom.audio.signal.Signal('data/sample.wav')\n",
    "fs = madmom.audio.signal.FramedSignal(sig)\n",
    "stft = madmom.audio.stft.ShortTimeFourierTransform(fs)\n",
    "spec = madmom.audio.spectrogram.Spectrogram(stft)\n",
    "filt = madmom.audio.spectrogram.FilteredSpectrogram(spec, num_bands=24)\n",
    "log = madmom.audio.spectrogram.LogarithmicSpectrogram(filt)\n",
    "diff = madmom.audio.spectrogram.SpectrogramDifference(log, diff_max_bins=3, positive_diffs=True)\n",
    "superflux_1 = np.mean(diff, axis=1)"
   ]
  },
  {
   "cell_type": "markdown",
   "metadata": {},
   "source": [
    "We already know that it would have been enough to do:"
   ]
  },
  {
   "cell_type": "code",
   "execution_count": 3,
   "metadata": {
    "collapsed": true
   },
   "outputs": [],
   "source": [
    "spec = madmom.audio.spectrogram.LogarithmicFilteredSpectrogram('data/sample.wav', num_bands=24)\n",
    "diff = madmom.audio.spectrogram.SpectrogramDifference(spec, diff_max_bins=3, positive_diffs=True)\n",
    "superflux_2 = np.mean(diff, axis=1)"
   ]
  },
  {
   "cell_type": "markdown",
   "metadata": {},
   "source": [
    "Anyways, our goal is to be able to perform the same task as above for different audio files without much work.\n",
    "A simple solution would be to iterate over the audio files and save everything accordingly, or to define a class which does exactly the same as above in a method."
   ]
  },
  {
   "cell_type": "code",
   "execution_count": 4,
   "metadata": {
    "collapsed": true
   },
   "outputs": [],
   "source": [
    "class SimpleSuperFluxProcessing(object):\n",
    "    \n",
    "    def process(data):\n",
    "        spec = madmom.audio.spectrogram.LogarithmicFilteredSpectrogram(data, num_bands=24)\n",
    "        diff = madmom.audio.spectrogram.SpectrogramDifference(spec, diff_max_bins=3, positive_diffs=True)\n",
    "        return np.mean(diff, axis=1)"
   ]
  },
  {
   "cell_type": "markdown",
   "metadata": {},
   "source": [
    "This works as desired, but we are not able to set any parameters, e.g. the number of bands used for the filtering step. To be able to do so, we would need to save the parameters that we want to be able to change."
   ]
  },
  {
   "cell_type": "code",
   "execution_count": 5,
   "metadata": {
    "collapsed": true
   },
   "outputs": [],
   "source": [
    "class BetterSuperFluxProcessing(object):\n",
    "    \n",
    "    def __init__(self, num_bands=24, diff_max_bins=3, positive_diffs=True):\n",
    "        self.num_bands = num_bands\n",
    "        self.diff_max_bins = diff_max_bins\n",
    "        self.positive_diffs = positive_diffs\n",
    "        \n",
    "    def process(data):\n",
    "        spec = madmom.audio.spectrogram.LogarithmicFilteredSpectrogram(data, num_bands=self.num_bands)\n",
    "        diff = madmom.audio.spectrogram.SpectrogramDifference(diff, diff_max_bins=self.diff_max_bins,\n",
    "                                                              positive_diffs=self.positive_diffs)\n",
    "        return np.mean(diff, axis=1)\n",
    "    "
   ]
  },
  {
   "cell_type": "markdown",
   "metadata": {},
   "source": [
    "This variant is able to set the number of bins and the other parameters and then process the audio files accordingly, but of course there's a better way to accomplish the same functionality."
   ]
  },
  {
   "cell_type": "markdown",
   "metadata": {},
   "source": [
    "## Processors\n",
    "\n",
    "`madmom` offers a *processor class* for any *data class* (we call them data classes, because an object of this class depends on the input data). E.g. there's a `madmom.audio.signal.SignalProcessor()` class for the `madmom.audio.signal.Signal()`class.\n",
    "\n",
    "Both data and processor classes accept the same arguments, the only difference is that the processor class misses the first argument of the corresponing data class. E.g. the `Signal` class expects a file name as the first argument but the `SignalProcessor` class misses exactly this first argument. Please note that the processor classes may provide additional keyword arguments and add more functionality, but always reflect at least the arguments and functionality of the data class.\n",
    "\n",
    "All processor classes inherit from the `madmom.processors.Processor` base class and must provide a `process()` method which accepts the data to be processed as the first argument. When called, it process the given data according to the defined processing and returns the processed data.\n",
    "\n",
    "These two are equivalent and return the exact same data."
   ]
  },
  {
   "cell_type": "code",
   "execution_count": 6,
   "metadata": {
    "collapsed": false
   },
   "outputs": [
    {
     "data": {
      "text/plain": [
       "Signal([-2494, -2510, -2484, ...,   520,   655,   639], dtype=int16)"
      ]
     },
     "execution_count": 6,
     "metadata": {},
     "output_type": "execute_result"
    }
   ],
   "source": [
    "madmom.audio.signal.Signal('data/sample.wav')"
   ]
  },
  {
   "cell_type": "code",
   "execution_count": 7,
   "metadata": {
    "collapsed": false
   },
   "outputs": [
    {
     "data": {
      "text/plain": [
       "Signal([-2494, -2510, -2484, ...,   520,   655,   639], dtype=int16)"
      ]
     },
     "execution_count": 7,
     "metadata": {},
     "output_type": "execute_result"
    }
   ],
   "source": [
    "madmom.audio.signal.SignalProcessor().process('data/sample.wav')"
   ]
  },
  {
   "cell_type": "markdown",
   "metadata": {},
   "source": [
    "Additionally, every `Processor` is callable, so we could also do this instead (more on this later):"
   ]
  },
  {
   "cell_type": "code",
   "execution_count": 8,
   "metadata": {
    "collapsed": false
   },
   "outputs": [
    {
     "data": {
      "text/plain": [
       "Signal([-2494, -2510, -2484, ...,   520,   655,   639], dtype=int16)"
      ]
     },
     "execution_count": 8,
     "metadata": {},
     "output_type": "execute_result"
    }
   ],
   "source": [
    "madmom.audio.signal.SignalProcessor()('data/sample.wav')"
   ]
  },
  {
   "cell_type": "markdown",
   "metadata": {},
   "source": [
    "Using processors, the `SuperFlux` algorithm could be rewritten as:"
   ]
  },
  {
   "cell_type": "code",
   "execution_count": 9,
   "metadata": {
    "collapsed": true
   },
   "outputs": [],
   "source": [
    "spec = madmom.audio.spectrogram.LogarithmicFilteredSpectrogramProcessor(num_bands=24).process('data/sample.wav')\n",
    "diff = madmom.audio.spectrogram.SpectrogramDifferenceProcessor(diff_max_bins=3, positive_diffs=True).process(spec)\n",
    "superflux_3 = np.mean(diff, axis=1)"
   ]
  },
  {
   "cell_type": "markdown",
   "metadata": {},
   "source": [
    "This is basically still the same as before. The second processor uses the output of the first and processes it further. It still does not provide any benefits compared to the simpler versions without any processors."
   ]
  },
  {
   "cell_type": "markdown",
   "metadata": {},
   "source": [
    "### SequentialProcessor\n",
    "\n",
    "To sequentiall process the output of any processor by another processor, `madmom` offers the `SequentialProcessor` class, which does exactly this. To create a `SequentialProcessor`, simply pass a list of processors to the constructor. When the `process()` method or the processor itself is called, it processes all processors sequantially, feeding the output of one processor to the next one as input.\n",
    "\n",
    "Exploiting the fact that the `Processors` must be callable and the `SequentialProcessor` calls them rather calling the `process()` method, we can use any function as a processor as long as it accepts a single argument. We can thus rewrite the `SuperFlux` as a `SequentialProcessor`:"
   ]
  },
  {
   "cell_type": "code",
   "execution_count": 10,
   "metadata": {
    "collapsed": true
   },
   "outputs": [],
   "source": [
    "spec = madmom.audio.spectrogram.LogarithmicFilteredSpectrogramProcessor(num_bands=24)\n",
    "diff = madmom.audio.spectrogram.SpectrogramDifferenceProcessor(diff_max_bins=3, positive_diffs=True)\n",
    "# functions can also be used as processors!\n",
    "from functools import partial\n",
    "mean = partial(np.mean, axis=1)\n",
    "\n",
    "superflux_seq_processor = madmom.processors.SequentialProcessor([spec, diff, mean])"
   ]
  },
  {
   "cell_type": "markdown",
   "metadata": {},
   "source": [
    "Or since classes are so nice and the parameters can be changed easily as a class inheriting from `SequentialProcessor`:"
   ]
  },
  {
   "cell_type": "code",
   "execution_count": 11,
   "metadata": {
    "collapsed": false
   },
   "outputs": [],
   "source": [
    "class SuperFluxProcessor(madmom.processors.SequentialProcessor):\n",
    "    \n",
    "    def __init__(self, num_bands=24, diff_max_bins=3, positive_diffs=True):\n",
    "        # define the processing chain\n",
    "        spec = madmom.audio.spectrogram.LogarithmicFilteredSpectrogramProcessor(num_bands=num_bands)\n",
    "        diff = madmom.audio.spectrogram.SpectrogramDifferenceProcessor(diff_max_bins=diff_max_bins,\n",
    "                                                                       positive_diffs=positive_diffs)\n",
    "        from functools import partial\n",
    "        mean = partial(np.mean, axis=1)\n",
    "        # sequentially process everything\n",
    "        super(SuperFluxProcessor, self).__init__([spec, diff, mean])\n",
    "        \n",
    "superflux_processor = SuperFluxProcessor()"
   ]
  },
  {
   "cell_type": "markdown",
   "metadata": {},
   "source": [
    "Check that they are equivalent:"
   ]
  },
  {
   "cell_type": "code",
   "execution_count": 12,
   "metadata": {
    "collapsed": false
   },
   "outputs": [
    {
     "data": {
      "text/plain": [
       "[<matplotlib.lines.Line2D at 0x10c2c3dd8>]"
      ]
     },
     "execution_count": 12,
     "metadata": {},
     "output_type": "execute_result"
    },
    {
     "data": {
      "image/png": "[encoded data removed]",
      "text/plain": [
       "<matplotlib.figure.Figure at 0x10b1ef6a0>"
      ]
     },
     "metadata": {},
     "output_type": "display_data"
    }
   ],
   "source": [
    "superflux_4 = superflux_seq_processor.process('data/sample.wav')\n",
    "superflux_5 = superflux_processor.process('data/sample.wav')\n",
    "\n",
    "plt.figure()\n",
    "plt.plot(superflux_1)\n",
    "plt.plot(superflux_2)\n",
    "plt.plot(superflux_3)\n",
    "plt.plot(superflux_4)\n",
    "plt.plot(superflux_5)"
   ]
  },
  {
   "cell_type": "markdown",
   "metadata": {},
   "source": [
    "Additionally there are a couple of other processors defined:\n",
    "\n",
    "### ParallelProcessor\n",
    "\n",
    "Accepts a list of processors, processes the given data with all of them (in parallel) and returns a list with the results.\n",
    "\n",
    "### OutputProcessor\n",
    "\n",
    "A Processor whose `process()` method accepts two arguments (input and output). It processes the 'input', puts it into 'output' and returns it. Used for writing something to a file.\n",
    "\n",
    "### IOProcessor\n",
    "\n",
    "Accepts two arguments, an `in_processor` and an `out_processor`. The former can be a single `Processor`, a `SequentialProcessor`, a function accepting a single argument. If a list is given, it gets wraped as a `SequentialProcessor`. The latter can be an `OutputProcessor` or a function which accepts two arguments (input and output)."
   ]
  },
  {
   "cell_type": "markdown",
   "metadata": {},
   "source": [
    "## What are the benefits of using `Processor`s?\n",
    "\n",
    "### Single / batch processing\n",
    "\n",
    "The `madmom.processors` module also offers functions for processing any processor either with a single file or a list of files.\n",
    "\n",
    "The `madmom.processors.process_single(processor, infile, outfile)` function processes the `infile` and saves/pipes the processed data to `outfile`.\n",
    "\n",
    "The `madmom.processors.process_batch(processor, files, output_dir, num_workers)` (some arguments omitted) function processes the `files` and saves the processed data to `output_dir`. It automatically spawns multiple workers and processes all files in parallel.\n",
    "\n",
    "### Pickling of processors\n",
    "\n",
    "All processors can be pickled, i.e. all parameters are saved and can be loaded at any time to get the exact same results. This can be used to reproduce the exact same results of an experiment later on."
   ]
  }
 ],
 "metadata": {
  "kernelspec": {
   "display_name": "Python 2",
   "language": "python",
   "name": "python2"
  },
  "language_info": {
   "codemirror_mode": {
    "name": "ipython",
    "version": 2
   },
   "file_extension": ".py",
   "mimetype": "text/x-python",
   "name": "python",
   "nbconvert_exporter": "python",
   "pygments_lexer": "ipython2",
   "version": "2.7.11"
  }
 },
 "nbformat": 4,
 "nbformat_minor": 0
}
